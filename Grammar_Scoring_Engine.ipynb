{
  "nbformat": 4,
  "nbformat_minor": 0,
  "metadata": {
    "colab": {
      "provenance": []
    },
    "kernelspec": {
      "name": "python3",
      "display_name": "Python 3"
    },
    "language_info": {
      "name": "python"
    }
  },
  "cells": [
    {
      "cell_type": "markdown",
      "source": [
        "## Installing Required Libraries"
      ],
      "metadata": {
        "id": "-RfoNuyU9eLT"
      }
    },
    {
      "cell_type": "code",
      "source": [
        "!pip install -q transformers\n",
        "!pip install -q openai-whisper\n",
        "!pip install -q torchaudio\n",
        "!pip install -q git+https://github.com/openai/whisper.git\n",
        "!pip install -q pydub"
      ],
      "metadata": {
        "colab": {
          "base_uri": "https://localhost:8080/"
        },
        "id": "yQYjUcEV8oTd",
        "outputId": "703222b2-028a-46ff-b304-ad6939316c66"
      },
      "execution_count": null,
      "outputs": [
        {
          "output_type": "stream",
          "name": "stdout",
          "text": [
            "\u001b[?25l     \u001b[90m━━━━━━━━━━━━━━━━━━━━━━━━━━━━━━━━━━━━━━━━\u001b[0m \u001b[32m0.0/800.5 kB\u001b[0m \u001b[31m?\u001b[0m eta \u001b[36m-:--:--\u001b[0m\r\u001b[2K     \u001b[91m━━━━━━━━━━━━━━\u001b[0m\u001b[90m╺\u001b[0m\u001b[90m━━━━━━━━━━━━━━━━━━━━━━━━━\u001b[0m \u001b[32m286.7/800.5 kB\u001b[0m \u001b[31m8.3 MB/s\u001b[0m eta \u001b[36m0:00:01\u001b[0m\r\u001b[2K     \u001b[90m━━━━━━━━━━━━━━━━━━━━━━━━━━━━━━━━━━━━━━━━\u001b[0m \u001b[32m800.5/800.5 kB\u001b[0m \u001b[31m9.9 MB/s\u001b[0m eta \u001b[36m0:00:00\u001b[0m\n",
            "\u001b[?25h  Installing build dependencies ... \u001b[?25l\u001b[?25hdone\n",
            "  Getting requirements to build wheel ... \u001b[?25l\u001b[?25hdone\n",
            "  Preparing metadata (pyproject.toml) ... \u001b[?25l\u001b[?25hdone\n",
            "\u001b[2K   \u001b[90m━━━━━━━━━━━━━━━━━━━━━━━━━━━━━━━━━━━━━━━━\u001b[0m \u001b[32m1.2/1.2 MB\u001b[0m \u001b[31m19.9 MB/s\u001b[0m eta \u001b[36m0:00:00\u001b[0m\n",
            "\u001b[2K   \u001b[90m━━━━━━━━━━━━━━━━━━━━━━━━━━━━━━━━━━━━━━━━\u001b[0m \u001b[32m363.4/363.4 MB\u001b[0m \u001b[31m3.2 MB/s\u001b[0m eta \u001b[36m0:00:00\u001b[0m\n",
            "\u001b[2K   \u001b[90m━━━━━━━━━━━━━━━━━━━━━━━━━━━━━━━━━━━━━━━━\u001b[0m \u001b[32m13.8/13.8 MB\u001b[0m \u001b[31m32.8 MB/s\u001b[0m eta \u001b[36m0:00:00\u001b[0m\n",
            "\u001b[2K   \u001b[90m━━━━━━━━━━━━━━━━━━━━━━━━━━━━━━━━━━━━━━━━\u001b[0m \u001b[32m24.6/24.6 MB\u001b[0m \u001b[31m20.2 MB/s\u001b[0m eta \u001b[36m0:00:00\u001b[0m\n",
            "\u001b[2K   \u001b[90m━━━━━━━━━━━━━━━━━━━━━━━━━━━━━━━━━━━━━━━━\u001b[0m \u001b[32m883.7/883.7 kB\u001b[0m \u001b[31m17.9 MB/s\u001b[0m eta \u001b[36m0:00:00\u001b[0m\n",
            "\u001b[2K   \u001b[90m━━━━━━━━━━━━━━━━━━━━━━━━━━━━━━━━━━━━━━━━\u001b[0m \u001b[32m664.8/664.8 MB\u001b[0m \u001b[31m2.6 MB/s\u001b[0m eta \u001b[36m0:00:00\u001b[0m\n",
            "\u001b[2K   \u001b[90m━━━━━━━━━━━━━━━━━━━━━━━━━━━━━━━━━━━━━━━━\u001b[0m \u001b[32m211.5/211.5 MB\u001b[0m \u001b[31m5.9 MB/s\u001b[0m eta \u001b[36m0:00:00\u001b[0m\n",
            "\u001b[2K   \u001b[90m━━━━━━━━━━━━━━━━━━━━━━━━━━━━━━━━━━━━━━━━\u001b[0m \u001b[32m56.3/56.3 MB\u001b[0m \u001b[31m11.8 MB/s\u001b[0m eta \u001b[36m0:00:00\u001b[0m\n",
            "\u001b[2K   \u001b[90m━━━━━━━━━━━━━━━━━━━━━━━━━━━━━━━━━━━━━━━━\u001b[0m \u001b[32m127.9/127.9 MB\u001b[0m \u001b[31m7.2 MB/s\u001b[0m eta \u001b[36m0:00:00\u001b[0m\n",
            "\u001b[2K   \u001b[90m━━━━━━━━━━━━━━━━━━━━━━━━━━━━━━━━━━━━━━━━\u001b[0m \u001b[32m207.5/207.5 MB\u001b[0m \u001b[31m6.1 MB/s\u001b[0m eta \u001b[36m0:00:00\u001b[0m\n",
            "\u001b[2K   \u001b[90m━━━━━━━━━━━━━━━━━━━━━━━━━━━━━━━━━━━━━━━━\u001b[0m \u001b[32m21.1/21.1 MB\u001b[0m \u001b[31m79.4 MB/s\u001b[0m eta \u001b[36m0:00:00\u001b[0m\n",
            "\u001b[?25h  Building wheel for openai-whisper (pyproject.toml) ... \u001b[?25l\u001b[?25hdone\n",
            "  Installing build dependencies ... \u001b[?25l\u001b[?25hdone\n",
            "  Getting requirements to build wheel ... \u001b[?25l\u001b[?25hdone\n",
            "  Preparing metadata (pyproject.toml) ... \u001b[?25l\u001b[?25hdone\n"
          ]
        }
      ]
    },
    {
      "cell_type": "markdown",
      "source": [
        "## Importing Libraries"
      ],
      "metadata": {
        "id": "hySRN0H69pBL"
      }
    },
    {
      "cell_type": "code",
      "source": [
        "import torch\n",
        "import whisper\n",
        "from transformers import AutoTokenizer, AutoModelForSequenceClassification\n",
        "from torch.nn.functional import softmax\n",
        "import numpy as np\n",
        "from google.colab import files\n",
        "import IPython.display as ipd"
      ],
      "metadata": {
        "id": "fE8VYhuK8tFE"
      },
      "execution_count": null,
      "outputs": []
    },
    {
      "cell_type": "markdown",
      "source": [
        "## Uploading Audio File"
      ],
      "metadata": {
        "id": "cA71lBY39zbc"
      }
    },
    {
      "cell_type": "code",
      "source": [
        "print(\"Upload an audio file (wav/mp3/m4a)...\")\n",
        "uploaded = files.upload()\n",
        "filename = list(uploaded.keys())[0]\n",
        "ipd.Audio(filename)"
      ],
      "metadata": {
        "colab": {
          "base_uri": "https://localhost:8080/",
          "height": 149
        },
        "id": "oh-NwUJP8vP6",
        "outputId": "e6ca7c71-a16f-4d67-f0ac-cc510167e59b"
      },
      "execution_count": null,
      "outputs": [
        {
          "output_type": "stream",
          "name": "stdout",
          "text": [
            "Upload an audio file (wav/mp3/m4a)...\n"
          ]
        },
        {
          "output_type": "display_data",
          "data": {
            "text/plain": [
              "<IPython.core.display.HTML object>"
            ],
            "text/html": [
              "\n",
              "     <input type=\"file\" id=\"files-a9ecd1a2-2c12-4e7b-a4a5-6a4b5a6ea20e\" name=\"files[]\" multiple disabled\n",
              "        style=\"border:none\" />\n",
              "     <output id=\"result-a9ecd1a2-2c12-4e7b-a4a5-6a4b5a6ea20e\">\n",
              "      Upload widget is only available when the cell has been executed in the\n",
              "      current browser session. Please rerun this cell to enable.\n",
              "      </output>\n",
              "      <script>// Copyright 2017 Google LLC\n",
              "//\n",
              "// Licensed under the Apache License, Version 2.0 (the \"License\");\n",
              "// you may not use this file except in compliance with the License.\n",
              "// You may obtain a copy of the License at\n",
              "//\n",
              "//      http://www.apache.org/licenses/LICENSE-2.0\n",
              "//\n",
              "// Unless required by applicable law or agreed to in writing, software\n",
              "// distributed under the License is distributed on an \"AS IS\" BASIS,\n",
              "// WITHOUT WARRANTIES OR CONDITIONS OF ANY KIND, either express or implied.\n",
              "// See the License for the specific language governing permissions and\n",
              "// limitations under the License.\n",
              "\n",
              "/**\n",
              " * @fileoverview Helpers for google.colab Python module.\n",
              " */\n",
              "(function(scope) {\n",
              "function span(text, styleAttributes = {}) {\n",
              "  const element = document.createElement('span');\n",
              "  element.textContent = text;\n",
              "  for (const key of Object.keys(styleAttributes)) {\n",
              "    element.style[key] = styleAttributes[key];\n",
              "  }\n",
              "  return element;\n",
              "}\n",
              "\n",
              "// Max number of bytes which will be uploaded at a time.\n",
              "const MAX_PAYLOAD_SIZE = 100 * 1024;\n",
              "\n",
              "function _uploadFiles(inputId, outputId) {\n",
              "  const steps = uploadFilesStep(inputId, outputId);\n",
              "  const outputElement = document.getElementById(outputId);\n",
              "  // Cache steps on the outputElement to make it available for the next call\n",
              "  // to uploadFilesContinue from Python.\n",
              "  outputElement.steps = steps;\n",
              "\n",
              "  return _uploadFilesContinue(outputId);\n",
              "}\n",
              "\n",
              "// This is roughly an async generator (not supported in the browser yet),\n",
              "// where there are multiple asynchronous steps and the Python side is going\n",
              "// to poll for completion of each step.\n",
              "// This uses a Promise to block the python side on completion of each step,\n",
              "// then passes the result of the previous step as the input to the next step.\n",
              "function _uploadFilesContinue(outputId) {\n",
              "  const outputElement = document.getElementById(outputId);\n",
              "  const steps = outputElement.steps;\n",
              "\n",
              "  const next = steps.next(outputElement.lastPromiseValue);\n",
              "  return Promise.resolve(next.value.promise).then((value) => {\n",
              "    // Cache the last promise value to make it available to the next\n",
              "    // step of the generator.\n",
              "    outputElement.lastPromiseValue = value;\n",
              "    return next.value.response;\n",
              "  });\n",
              "}\n",
              "\n",
              "/**\n",
              " * Generator function which is called between each async step of the upload\n",
              " * process.\n",
              " * @param {string} inputId Element ID of the input file picker element.\n",
              " * @param {string} outputId Element ID of the output display.\n",
              " * @return {!Iterable<!Object>} Iterable of next steps.\n",
              " */\n",
              "function* uploadFilesStep(inputId, outputId) {\n",
              "  const inputElement = document.getElementById(inputId);\n",
              "  inputElement.disabled = false;\n",
              "\n",
              "  const outputElement = document.getElementById(outputId);\n",
              "  outputElement.innerHTML = '';\n",
              "\n",
              "  const pickedPromise = new Promise((resolve) => {\n",
              "    inputElement.addEventListener('change', (e) => {\n",
              "      resolve(e.target.files);\n",
              "    });\n",
              "  });\n",
              "\n",
              "  const cancel = document.createElement('button');\n",
              "  inputElement.parentElement.appendChild(cancel);\n",
              "  cancel.textContent = 'Cancel upload';\n",
              "  const cancelPromise = new Promise((resolve) => {\n",
              "    cancel.onclick = () => {\n",
              "      resolve(null);\n",
              "    };\n",
              "  });\n",
              "\n",
              "  // Wait for the user to pick the files.\n",
              "  const files = yield {\n",
              "    promise: Promise.race([pickedPromise, cancelPromise]),\n",
              "    response: {\n",
              "      action: 'starting',\n",
              "    }\n",
              "  };\n",
              "\n",
              "  cancel.remove();\n",
              "\n",
              "  // Disable the input element since further picks are not allowed.\n",
              "  inputElement.disabled = true;\n",
              "\n",
              "  if (!files) {\n",
              "    return {\n",
              "      response: {\n",
              "        action: 'complete',\n",
              "      }\n",
              "    };\n",
              "  }\n",
              "\n",
              "  for (const file of files) {\n",
              "    const li = document.createElement('li');\n",
              "    li.append(span(file.name, {fontWeight: 'bold'}));\n",
              "    li.append(span(\n",
              "        `(${file.type || 'n/a'}) - ${file.size} bytes, ` +\n",
              "        `last modified: ${\n",
              "            file.lastModifiedDate ? file.lastModifiedDate.toLocaleDateString() :\n",
              "                                    'n/a'} - `));\n",
              "    const percent = span('0% done');\n",
              "    li.appendChild(percent);\n",
              "\n",
              "    outputElement.appendChild(li);\n",
              "\n",
              "    const fileDataPromise = new Promise((resolve) => {\n",
              "      const reader = new FileReader();\n",
              "      reader.onload = (e) => {\n",
              "        resolve(e.target.result);\n",
              "      };\n",
              "      reader.readAsArrayBuffer(file);\n",
              "    });\n",
              "    // Wait for the data to be ready.\n",
              "    let fileData = yield {\n",
              "      promise: fileDataPromise,\n",
              "      response: {\n",
              "        action: 'continue',\n",
              "      }\n",
              "    };\n",
              "\n",
              "    // Use a chunked sending to avoid message size limits. See b/62115660.\n",
              "    let position = 0;\n",
              "    do {\n",
              "      const length = Math.min(fileData.byteLength - position, MAX_PAYLOAD_SIZE);\n",
              "      const chunk = new Uint8Array(fileData, position, length);\n",
              "      position += length;\n",
              "\n",
              "      const base64 = btoa(String.fromCharCode.apply(null, chunk));\n",
              "      yield {\n",
              "        response: {\n",
              "          action: 'append',\n",
              "          file: file.name,\n",
              "          data: base64,\n",
              "        },\n",
              "      };\n",
              "\n",
              "      let percentDone = fileData.byteLength === 0 ?\n",
              "          100 :\n",
              "          Math.round((position / fileData.byteLength) * 100);\n",
              "      percent.textContent = `${percentDone}% done`;\n",
              "\n",
              "    } while (position < fileData.byteLength);\n",
              "  }\n",
              "\n",
              "  // All done.\n",
              "  yield {\n",
              "    response: {\n",
              "      action: 'complete',\n",
              "    }\n",
              "  };\n",
              "}\n",
              "\n",
              "scope.google = scope.google || {};\n",
              "scope.google.colab = scope.google.colab || {};\n",
              "scope.google.colab._files = {\n",
              "  _uploadFiles,\n",
              "  _uploadFilesContinue,\n",
              "};\n",
              "})(self);\n",
              "</script> "
            ]
          },
          "metadata": {}
        },
        {
          "output_type": "stream",
          "name": "stdout",
          "text": [
            "Saving tts_output.mp3 to tts_output (1).mp3\n"
          ]
        },
        {
          "output_type": "execute_result",
          "data": {
            "text/plain": [
              "<IPython.lib.display.Audio object>"
            ],
            "text/html": [
              "\n",
              "                <audio  controls=\"controls\" >\n",
              "                    <source src=\"data:audio/mpeg;base64,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\" type=\"audio/mpeg\" />\n",
              "                    Your browser does not support the audio element.\n",
              "                </audio>\n",
              "              "
            ]
          },
          "metadata": {},
          "execution_count": 10
        }
      ]
    },
    {
      "cell_type": "markdown",
      "source": [
        "## Transcribing the Audio"
      ],
      "metadata": {
        "id": "y2numq9R-AW7"
      }
    },
    {
      "cell_type": "code",
      "source": [
        "print(\"\\nTranscribing with Whisper...\")\n",
        "model_whisper = whisper.load_model(\"base\")\n",
        "result = model_whisper.transcribe(filename)\n",
        "transcribed_text = result[\"text\"]\n",
        "print(f\"\\n📝 Transcribed Text: \\\"{transcribed_text.strip()}\\\"\")"
      ],
      "metadata": {
        "colab": {
          "base_uri": "https://localhost:8080/"
        },
        "id": "zdoiu2Ll8yha",
        "outputId": "680e0b7a-6e9e-4309-fed2-e068987a0d8d"
      },
      "execution_count": null,
      "outputs": [
        {
          "output_type": "stream",
          "name": "stdout",
          "text": [
            "\n",
            "Transcribing with Whisper...\n"
          ]
        },
        {
          "output_type": "stream",
          "name": "stderr",
          "text": [
            "/usr/local/lib/python3.11/dist-packages/whisper/transcribe.py:126: UserWarning: FP16 is not supported on CPU; using FP32 instead\n",
            "  warnings.warn(\"FP16 is not supported on CPU; using FP32 instead\")\n"
          ]
        },
        {
          "output_type": "stream",
          "name": "stdout",
          "text": [
            "\n",
            "📝 Transcribed Text: \"I am a very good morning.\"\n"
          ]
        }
      ]
    },
    {
      "cell_type": "markdown",
      "source": [
        "## Load Grammar Model"
      ],
      "metadata": {
        "id": "5XdzEJjn-NmN"
      }
    },
    {
      "cell_type": "code",
      "source": [
        "print(\"\\nLoading grammar model...\")\n",
        "tokenizer = AutoTokenizer.from_pretrained(\"textattack/roberta-base-CoLA\")\n",
        "grammar_model = AutoModelForSequenceClassification.from_pretrained(\"textattack/roberta-base-CoLA\")"
      ],
      "metadata": {
        "colab": {
          "base_uri": "https://localhost:8080/"
        },
        "id": "8UG1GORz83R_",
        "outputId": "6d521269-6536-4a06-a0aa-6a3a326a3300"
      },
      "execution_count": null,
      "outputs": [
        {
          "output_type": "stream",
          "name": "stdout",
          "text": [
            "\n",
            "Loading grammar model...\n"
          ]
        },
        {
          "output_type": "stream",
          "name": "stderr",
          "text": [
            "Some weights of the model checkpoint at textattack/roberta-base-CoLA were not used when initializing RobertaForSequenceClassification: ['roberta.pooler.dense.bias', 'roberta.pooler.dense.weight']\n",
            "- This IS expected if you are initializing RobertaForSequenceClassification from the checkpoint of a model trained on another task or with another architecture (e.g. initializing a BertForSequenceClassification model from a BertForPreTraining model).\n",
            "- This IS NOT expected if you are initializing RobertaForSequenceClassification from the checkpoint of a model that you expect to be exactly identical (initializing a BertForSequenceClassification model from a BertForSequenceClassification model).\n"
          ]
        }
      ]
    },
    {
      "cell_type": "markdown",
      "source": [
        "## Evaluate Transcription"
      ],
      "metadata": {
        "id": "1TTxPD_M-ebK"
      }
    },
    {
      "cell_type": "code",
      "source": [
        "inputs = tokenizer(transcribed_text, return_tensors=\"pt\", truncation=True)\n",
        "outputs = grammar_model(**inputs)\n",
        "probs = softmax(outputs.logits, dim=1)\n",
        "\n",
        "acceptability_prob = probs[0][1].item()\n",
        "grammar_score = round(acceptability_prob * 5, 2)\n",
        "\n",
        "print(f\"\\n✅ Grammar Acceptability Score: {grammar_score} / 5\")"
      ],
      "metadata": {
        "colab": {
          "base_uri": "https://localhost:8080/"
        },
        "id": "DEYw2Oum85H9",
        "outputId": "49cc0a82-c356-4b5d-ad10-ebbe848a8f21"
      },
      "execution_count": null,
      "outputs": [
        {
          "output_type": "stream",
          "name": "stdout",
          "text": [
            "\n",
            "✅ Grammar Acceptability Score: 0.27 / 5\n"
          ]
        }
      ]
    },
    {
      "cell_type": "markdown",
      "source": [
        "## Convert Text to Speech and Play (To provide random audio file input)"
      ],
      "metadata": {
        "id": "MAeInLxR-nMn"
      }
    },
    {
      "cell_type": "code",
      "source": [
        "!pip install -q gTTS\n",
        "\n",
        "from gtts import gTTS\n",
        "from IPython.display import Audio, FileLink\n",
        "\n",
        "text = \"I am a very good morning\"\n",
        "\n",
        "tts = gTTS(text)\n",
        "audio_file = \"tts_output.mp3\"\n",
        "tts.save(audio_file)\n",
        "\n",
        "display(Audio(audio_file))\n",
        "\n",
        "display(FileLink(audio_file))\n"
      ],
      "metadata": {
        "colab": {
          "base_uri": "https://localhost:8080/",
          "height": 93
        },
        "id": "QH0HIC8s-hjS",
        "outputId": "676df2da-c3df-4b33-c056-ca381805060e"
      },
      "execution_count": null,
      "outputs": [
        {
          "output_type": "display_data",
          "data": {
            "text/plain": [
              "<IPython.lib.display.Audio object>"
            ],
            "text/html": [
              "\n",
              "                <audio  controls=\"controls\" >\n",
              "                    <source src=\"data:audio/mpeg;base64,//OExAAAAAAAAAAAAAAAAAAAAAAAAAAAAAAAAAAAAAAAAAAAAAAAAAAAAAAAAAAAAAAAAAAAAAAAAAAAAAAAAAAAAAAAAAAAAAAAAAAAAAAAAAAAAAAAAAAAAAAAAAAAAAAAAAAAAAAAAAAAAAAAAAAAAAAAAAAAAAAAAAAAAAAAAAAAAAAAAAAAAAAAAAAAAAAAAAAAAAAAAAAAAAAAAAAAAAAAAAAAAAAAAAAAAAAAAAAAAAAAAAAAAAAAAAAA//OExAAhUW4kAUkwAATBMEwDgDBMNtqCsVo0aNGRisNgYBAEBQKBQKBQKAGAwGAwsmTJkwggQIECBAgQCyZMmTJkyZMgQIECBAgQIEyZMmTJkydxEREREEyZMmTJp3aAIAgCAIA+D4Pg+DgIAgCAIA+D4Pg+BAQBAEAwD4Pg+H8Qf/B8HwfB80CAIBisHwf///oVXZLCEFMnM0hj4Bh/qplYP5sZsboqUtLN3zdlozAESScMDAYKABCAaBBgBIjA//OExC0vo+5cAZuoAcpDxaKbgBA8OSAYAgaoBEeAMjgwAUYgYpDKn43Rky+bwJBgMhA2HE/jT/NygaE4Q8XGZhy4rcWAUqGyKb60DxcaeEQIEQ0gZAzcZn/mZuWy4xom5uYjlBgwbAtgz6ysN7+pTUFHiotTLTTmsPfHkZEcgqCgx1l48QJAv//+u3/9SFnSWgvVoIf///3///ZMzCGVqwY5Rc4wFaNGAJpvmKhdlM1AWdJHJrFQvMbAV1kAMY0X//OExCEvMiKEAdvQAJiD8bYPAYVAAiY4HhduOEQAAJmXMCQ85TgIGGVICQYLCzINjUMASNSEQHAoCYUO+j2uM2kci2UM2nUypozegf5TPTknr0s5Tzny6KOXJYKdx6VHoq/sxMxKQT28o7G7XLkzSXu3aCpeuQXBNPRyyRwm1N5dv8qVb1PduTUvwt0UPSmVSiJ8rSCnr4dpLgMJLlDaHIQp//L+p3+2ZbvKBsY7YOsBUAZqlyYRyaq0PFYGqiIa//OExBctsjKEANbYuHCjBABgLhipobHVmTiaNT8lQKMY+zaxMWAQSDGFmRvbQakDJWQeMjRpKka+NBBQ6alxgpAZabmOh4sBwUnKgkdyHJa4K6H3l+qzfJiO5Lp6RM4l9iWuCmOHZ2HI4DUTHbIZxfWoH8Y6j9M+9b565SrXwLztbkc5Toneegqzr6gyLXb25Z5yA6zVKHS7D4qCwdt/9WeoNDwGp/9U+9Dv/6HOW2n5BIkc6dpxP87qCEluw4Tl//OExBMr2h6IAN7emNSQECSgFRFqw0oGR5hyIpm06PEIqYssCEBT5jcOGHhAQUU0jVsMQMzRgpDZ8F7DAaZQMhisrTAsQGRAwwAWpFIYdJXcgnJYfhKUe9rHJhqE+OUcJFsF5oLLvUa1sbx/Nr7xj6g1iw6w6KaOzRs3nvX2h7tu2/nV6YznML2+7RoGh4bF5N/y70rN9vX/1l1NYGnBEFjIAfIOa+lRMyqrUoXwKhkw/BHVRONKDHGxCW5TiUPq//OExBYrizKIANbKvChQfMzkw34IKzslFRGHaj8ko8EOdJAkEuYYgAv89GLugUP1ErDpK6KBOgjN1NIoJmKzzkcmFmSKczf8MD+VZqs0KQXKzzvWGAcr3XuS6zlhquxKGHO9xpthgm7lEgcYMlFD6ipGzC7oMnHqgiUSY5h4mOd1LZf/uedqt31///9kka0YhAQ0pNEFGA0RGA8MW5hpiAKG7vtNValnVdmBvzS+i33eUOML2DJAxxabxCLGKmaQ//OExBouSx6IAN6KvHCmJocjb8DCApukly+gdidGVVWFGTOIiO7hSgwW1p+aeWNjHADUKbVcKEVgJBTwZOISVr36eAWcLrheGTYVYJZJrsBtcL1vxIaRurBJZSWboaBCCBpTozCQorDBIIikpRIcLMcQi5N3sVBNxixcpnAogJjzspiVb/97Kv///6M7EKQYZzEIw5B5s6eh0WQ5SROVC4ARC7XjCa2+QRU/DCq5jquqgc/wUDE8pC5Jg9xiC81R//OExBMluxqQANYKvNlwgtaSA9/YJXgcAv1nXdAGXS7rcuwyXtk+sJlDGGN1pRVLJr8+1DI5V2JymzoWMTtell1x5ua1QOVB2ec1kmLD9rUkd6TX+lOAovSHlHMwkohfAQUHMdQ1HMY/Vm0pag8dHu7Mvb//////6fRGVrsg1gINeSTzGlfa8gkjRswCIpBrEa9JXlAXEQRymGBDBEE5hQoZdFC60te5YaKddBS66DEri2jdWhUtxipUDLvTtrJ6//OExC8k8iKIAN5emBBh5qSG4bWmNUyeszIUPAxg0DPzsNQWXhilNlKYIgd1nMVfpmls2tmkNXD+Q17Fq1R/muMb3/Z7X+KrXttxpN/FvWu86///xb/5xmtuxR9034Vc9///kdNisO3//WWfEv86/rclgGSxhkZgIEBmpPRhgJJg8DJgQFJhqNBjihwyJ5hMA8mlCTpgMBoCAxSx/3IV0sl5ZVK4OVTNwW1u2Uqwcphr5VVSk3QiLrUs0+iMj5Wr//OExE4lm1J0AO4OvFL4bcqfluFBQM2hnCo7EpjWq+43ey/OI3JTh+8ccvdd2pZTyolgFAtGjCO7Mp53p/6/c7b///////////uOrQ12aRCInDHU8wq9GuszEAqGgM8gYKBQFgEDJhkDgjVIGisTBiYQhGWWMBgGMGgPfVabFi6jUHXgCTKBsuBg2APaxMRKDctLfSUQEFJKYzEkvW1N5bR423xpu/QRBtpPX+ZaVXrcsQXKr+G6kOQ9ex1ze/5t//OExGonGzZwAO4OvJXMMOIlmID40BcPjBwRCcbHFkZLGPbM0oyO6X21/9P////////7pvJmIRWmzsNf/xXy1flEBiIAMVLTg9g0EGYWQh5hYweZtE0uacplgqKAoIRmQDOdDqyBA+O4OWe7DiCFmGj3KcBmLSSpCN8MZWvpn4EMDxm3LJUjuyatTVuP4/eqDbpa4aAkM50eXHFCSCJ5EDIN/c29/QXd1rE0LlhIbITuiiFuxuh3GCBzwuB2M6f///OExIAkyaaEAN6SlP62IW90pMkzZ///97a1zhE+2ZWqpL9K1oAC53wKiyPASugSDHHrKIEaoSUONVZRhr1QaPOGZEjMSmWDisdezt0sZZUaw6LBX+VTMurM4bXDK5Y3QoEZ45v48chw1KIjzH69GC2ssXHdwjrSCgPAqCwcBAADCFkDsOp9x5q0lM0QhIsSMQPad+/99N4ur4qoHrfqNgd7//+TUw6prZEPiiTyvT7P+pbnxk4YFlXXfqDAgCtW//OExJ8l6gKMAN6QmLIyvsDRc6EQn4isEZMwHVAMvhEPjrsOJTNaJiEmZkUyeVt635ngLeyxwTCmxaK2KPPInoCgsHZYytxsuQYETcC5s7h2jaJKwKBwKisDAWABhaqFHud0vl5qtJRJPIKKKFeSaQBYcsDKBxnE5xhr//gI+skSahohY1D+VU7//291wsHCao9LYCLAebLCm5EqdScpnSoYBkHSjSVpbMy52O9lj3EWywcQkgGQoKhNKSFkJC13//OExLoimaKQAN6QlOIWZIJ3RiRL/AAYR5nouNCwAsQsmZAMHSuSL5XTPdqw0/V+/YpscaQ3LblBV51IpDIhyBMbHcfg8duacu32PrmWW3akmQpRaBtfMR/7o6uVLlh5UJhslyqmf/6zq1iYGXJOlloHE/6fR/+UxiBy6lsNQY0Sic6oIy0Q0BzBwIMxvoy8EzB4ACwNMFAkxiIkM0oFfmBAWkuEA1wouxpw2CyVpFlYV+INSOM7Boy7aMvMZzJd//OExOInUfZ8AN5WmEw40Avzhbs2a9LKaWW2afOnqzspxjNFX3Vq6q7v1Yrdxpsud/tndXfdd1l++az13ZAYOmMLO7UWz2ajiJVHFqUzlu7u7HZHVn3usn6OmikVLq12zG0WqI7MlLsVbrvn7mq/k0b2U+7G7V1oQcKEcfVVI1Y/mSCqIAIaCGNhQ4PJOwwudFwDCQhWN/XeZ+pq9ta1AVLrOMhqTNI0xy/60A3FEh2nyXGFFUysg0s0rUdMpyWy//OExPcutBpgAOYK3Xvs/bLwgV6RO8zszU5DxuNLEZAtKUpj5EE1O0Ujr3NxcRFLDNcVNXzDJW8J8RFfFRU3NTeRSXHSjkJTHHnQ/HCn0haIMgwfUwI6QfSh4OR4nKXqSkKIQQBEIHB+g3PCcLiU4bAC5d57g0FxQG4sDexwuZYmtCBrmGVrb3oQAY2cJQRAnldCHVgF+S6TSuMTNPhZ7qkho55DHjMdu2aZMmEAA56zIMk88wIAECkFBepnIZNm//OExO8tLDpUANmQ3GPJNehdgmA8MYEVrp3/j3sgac1SCDfD8+GWfUW0y6UGZhRBC9iU2S17ttRi7rM+92n35mnp/l7B6aEwhj5L4YliBx2FlEJmL/yYK7SRra13KQyUcyMj+ndl9FbkImgxAIIHEyIgIkUO1NZALKu4IHEgg8HglZSRZ6pTtnLpDgHMJKI1SdTBIiEApCCUY4gx5S1ArAAollAFAIAMQBhKB6kBRhYOGGAgmawdKhP1AHEEh2hF//OExO0sjDpcANGM3KQsgCiPK8DGS75fhStkRcgt4gAQcCgFIghRuEQpDPhYRqkeHI+pduOmg10LhVE5CGBoI7KGit5Z8tuXHgZ3aGclD8P3TymLtf+kgOXyvOO1r1r6eV7t5xeQCkXJAHIF5KmRlkwOqLkMSIbVoKAEYRpEjMXWmpRMhLLMokD1G0nwWTIpxxab22YY1koy3yuaS7M5pbdu1ObZieISNNhAU56C5BOE6amSs3HJZuyjKZFO8qf8//OExO1DvDpgAOYS3KdeXvJkJnYJVUZslciUPlyQhTaWNhtqREsvM3iGZFsUKGF8cIbYAJAMBscFDIwIJgqAzBp4PC+M0gEx4FNQjZUDBjgJKwMsaUYFARkIGQxNu0k8bodHAtRVZCWWYeS5aGAwIIkBpIoEiEp4GTWctkuabz51sjQaEpYhqUmqQcaNZAKliGPmIE5r9oMlqxEEiQsK2IwRCJRMOu70va5AdPO0kPuw/c9al8xOztWtUoqTKjlN//OExJE7hCp0AOZU3ThQlARiKF4X4WyYalyxOeWLkBQiJyUo4zFUZD8SwbxXHSALxiyUbeqmE5ino3////+YTsUnjpYmII/c9Vf///a+hhiHn0Moz80mecij05CqHjhrOYUVR6kshOSDJ7us5hD814igguzMMPM2qTTkgaBXukMaUKDBBuGEFF1miuvU9pKYTBJZ9VwV6W+XZSyF6H4xp4ywJXbvz6cqNJevJy2es6CDBBFBGosRSJZU7j7vq3Fi//OExFYqKw6QAN4auInWOMYIJEJ0JUMATCoyTLhmmovFaSBgpjYvukdMDMzOmJ42Lh40MjU2Q3btQTNy+Zlp5GyS0VK//Ulq/////19bJrRQXNFO//ocLt/0tctEYilSu91VggxFiAyQyWmjQgCTJN8yMHFguMQ+3piXnAIvyrcjSVS1IxrGSPjaz3NO078N2saWAXMa3F7MAvKvYv4pYwEuqNAgZNbb/vAGqIyHAZBoH5EN5MoW3l1PFCnGJSFG//OExGAjcfaUAN5emIOPO+e0v6eur3vBxPEy31m3Dtb6/zXXz/67xfvoz2yHI////9VohWpO3/0f/6Kl1jaf0Rjxpq+UD8JgVfxhjmB9A10ZZ5Q0yaZnQx1mAKSRm1SK3EoFAe2ms3RbMqdx79WAlBmmuvUqOE1oveAghfCDi8wJRmCHJmtTZSnUFwwBDovKWLcL7I1Mth2XRK7KRI4rIYxUZ3EmerqVFY5UcOA4ORkkVzqlqv1qzRw5jN////////OExIUm0xaMAN6KuP/61t66lVjLGg7HJScMHxO4VAhv/Xoq1Z5flilxg5LCQWdSSKNqAGKTocxGQMAbLl1UzJTEtDpC2RQ7T26yUBoAy4O0lqSigZTRpkQoX6iBoT4KPvPaWSYUsYUaY4YvRlaYKsxgxwKFu/WjqQrexF7Zff+7Zxw1/5bx7//3XT+ZdDGdnUKAgQcEMEZ0VsyOx1QxlcIhDMYn//////////ayqxXd0BA6lJ/YdERTfxGEkpGV//OExJwm2zKIAOaEvMe9qSt3DA7mGkhRPg7JboZEJoLNmbwSXqjUtYCKiAy24jAABisqyYQpsh+dgszlztwIksYuwdYk5UO0jjGONmGqFk3pvOsQgTAFzUJxJnfdWmn48mlDuVrKtTSqkx/9ZWrH/+8ce///vWf/+8fw//7p2NYSHgKAhHREMKSSnETEUjiIiGHIYxpP////////oqW1Q1RWURFTnahrX96PMYpxMhlsforIcSiMrMzLuJiRXK8k//OExLMre9Z4AOaK3Vtg2ODorZ5AjFi346ADCk1NCIZG2avutETCpYNnjUeAoTg1dpychqS6WukszflgXEjaZErBFdRmnR5MDJDZ240QAi7Es29d8EACZ7JLe+RJBpzM/1r7t7uP/qtY///dXD////v///lvv/vHJ1nHwDQ2rmMNhersyjoQjM4xBsC4Wfv////////zlU3vmHq6EyHQ1D+9TD1Pq7MxY44wuRMOB4WNYbEECguKILhW6o5X1Xgx//OExLgsk9JwAObO3QLBraNqiVZ1RTNDcZBRgBgnMgOTBV5qlK7gyDTJJEZvDkfdh/mHHXQM2fmtjQPCUTEgFhmVM2cJ3hQKD3IOBtJlT9p3gZGcEC7FFbpXqBBA0AxGjPCbnmV01Tn/8xj//+GF7//9fY///m63//pUyxhAMQJjDdVGPU8oPCerGliIUN9////////sxpG8wfs7LyAhTIxkIgcqT1PR1YgYfk6qPyhAYaRFGjhOPCEekEZCqrOL//OExLgu69p0AOaU3UzVnY3Oku0D0oNGgahwoo7/GGxAAk5s9uaQIsEn5BIFMzCS0IJXl72lh0ZihS/OWsYmz5r1juN35Gw1nyusnijCBZfA4ijTl04wY/YJlF8VYSziL6I4MI61NRPvDbO5F+u1JRev85vOksdx53Dmedn8NVPGDUFRdhQPwhD1Udlx7u70cUQinGkkrf/////////////////z/8W33C3raqMmpmmbVemtemmCkspu+YYlxIGn//OExK8so7KAAN4Q3JhfdoWznyfa4YCon1qhb557rimHk5t+aYKRN3nN10MBYNWtKcPzZ4mi62NSkjEzS2f19fDv1KliMQ9D0utPvDzaqVFweF204jUwAxDKhhUuW/cRVdlimT4RhpbrPnKIhMU+W8blfuG7FzWd/PmVfPWJIiI5YSAIoDwShFUgN0PHTzjDxHHyY2MnGmG888fcxGpZ7/////zP/RmHLsjzv///+7TJ9VPt9c5CDuXcQd9wDq6g//OExK8re+KEAN4O3d5xgZATN/EmlU1ZqbGQQx5xM7GlF3kp9oZwDQX+YQ9DXG3Y1U91/SPCjbpmFulss8R8+s4JFTPY6dAwhJwfAeg1JPVAW86D+L2nybmEn0dPHcpo2q6kg4tu77VvPPJLSFcRXEUaCMHgSIhMNXJio9CUaDi3evx0mjsjf////9X3Rb99DzjTWR////+ftHCbIaaZ/VFQidEwBeyXrF+Gz3o7F21MrfzrB80AFLYN6YSJmDPx//OExLQn+9KIANvO3b+pDRcyVuYCA2WKDVJvK8no1MwIuK6/xbe6wo1s0tBtuDR9CV14UBDhHgjTnFHyJqQlTC3FvE1TSFF9RvxC3B17WtX/Fs+1v6+1sGNQWEgCBoeAYgeOHREVERVCsjl/QPC3N/////0N5jGfTRxEOy6t///R/M9oiHXb/6lKX82roZxEpQ6QVKpMQRUHh4Q0ZgwDzYLpzxqJTOgbzAoETBYSjPZezTIbTB0Fk/VADCMTDEkH//OExMcm3BZ4ANvK3RsKhxakui2s1uai3cAWK3aOp3gkSfHg7d2u244MWrMJaChJKyKNCSITjeqp+SColGCUMlx4TDU8NAQBDbXGDSwoaUPA1mn4qKF1ruG0XukL0oOPJ63uQ6+nUGaXMW5bEJC7DLIWVoox5Azk4ikkRsEhxU4sPDKOIsEIrhkSM/xubNzYTjTKrOuAYW804Ct4BZG8KV9cybAAACZgKOCacYYBtA5uuvfqS+XsDjxlQ6PQOGAR//OExNwj4UJAAV0wACFUsC0BwYQdQou2v30IDr3kebX37NOeNwUM0SMqHMsiDBGH67+fIDi0OP5Vi8tZEKAEhS6aO6SaCf//8/3343T5/m7D8T7+NOh5x0JQQAU2QSocjHEt6/D/w/f/9fsiciQfMQ40+/xyzLBmUBcAX4eFFBK1ty6DIWTynPX//f/+fveWHH7l8Uj8XnKm3IkEvlkOUUXtorrnYeBQ8DGBIiRdDkacaEI06DLiS5hhgSeRfz8///OExP9P3DpQAZrQAP3rnM/y5nzP88uc5ykgfDm6fPCvTxSbl9DF4cbPGMHcinHUUcLwLdSIZay8ug8aC6YlW2X/a2i0sCvZdCjDNWGVdB2KRyTGvTggzDAgaNMaFHiCDaVSGjytcnKe81+B9crUlmzQHdBFo7EE2GgIh2UQ9gNjqIIhQSADTV8DrTOmpqS1kCk3XPtIpua7aXl1z7vYaxdf3Mtm4urlVkq1LWtdXnpJsw3i2w7j9v+7i2tjde51//OExHIqRBKMAdpYAf8/uuWt5dc/DWmt8W01pFrnot9ra3e3+v/4vlsbv/mo5h3//xf7oltO7t+pbaRNYtrZOoiquIpjTsvqQAQYxGwEB83iA4w2GI4RRYFIcYOAKKAwYwEMxx3ZW2IwMBhCLc6vovjFZqOio29nLUhSCubtogTdqWWh5CD0DBcJwUo7VfQtwlAvatEFA2ZQ9bUzLtqcP/K0eEWETmHohqFtBp7bXLPMKlmmz1L7n51+3u50lXLs//OExHwwxA58AO4O3KJZEwcDhAXjQ+e7Pebc5SBhit/7oyHqNJv////dx88fHCpzWQxyJE8boNGc/9P/fzK/9fuYr91ZmUdGwpRBFQqgnEwvQwqXlTzTaqxodOpCL7FAkYGqAZ5iIELVMXos8GaV2TLRjBAoCBLjaQYCKYrqPgklWK5QszCEpF8QLyMlzlTRAcK+V+wVJ37dZjBjMK5jGbhqvi0ZzTfa1cssrUocWSLbMMMmIjsgrNBnJixMW7+c//OExGwxhBZ8AOZO3Nw9vPCbs3t5S3Xa8xLsnQBwI4WLHsSJGMczIrbml3NT/oYht2HlOpb///8480fJi10IFRwxB0TljjB8gnt//5Uxx88z3RkeltffU5rEyKqPGjxUfKAtHj5hdrr9wQQioVUrz2A0bOXWzYwIWDC9Yh9zUzxpMumAMLW+4JVNQyxZm/F/mLOJ/molJu1IAazcrWEEDJqOHAQ5FeMXplnlq7Ydh7sa2S/Z3GkVtdl+Z9k6zfsR//OExFkmW/KIAN4K3ch3et1L+faTLX6ncf1V3j2VVQ6MEAiUpRAzqlrt2//u3/////s0rez4iQyB53///+ZDl6/+7f70Kt1VymKI5qzK+G2HAATE/kyQFMPEzToc5DJNnLjAC8MHB40IQEIKUHmGmQbn14BZzFKsMuy5MakUpsU2Uy5MxSOU90Sd7OGX8ZsuZTYKgAGlWrS2nC+TyeOYyozehNFytIol0NWiui4oTNresQ2WCrdQlczZ1i72mrWz//OExHIkmaJ0AN4elFi5g01b5euApUadY6vlgKZ///8Sh2S////6RDiIGhEDVSoCxgNCIcmDNofIcZihGDwZMUEM6UMTTJ1GkEXwNNhwx0BnYbEIwhqC70DRBYejj0bTDbfGnciHMbEBvPQP+rc/ktwj0Ypqe7JpZAoKIEBIiiJwDnzCradsKRgTKoWfa80BJr/NLVshkLCoPh8AGRrwubITjgPScelS3rRN+t+fL+mLhEGAxcvXVbym6LF/8uom//OExJIkeVJMAOYSlAQAKj8YBwBZg4gFmheDWDgcgCAuYBQN5hcl4GCSDoLASjoBpgbhumC0A2s1sZCAGp2P5uHNEcoR/i6HlgjIZR0vzuBaC5Qnj84cR3jlK1qiCy1bGCkduOc1S2twMAcMeG1K/u97xNBibxDpHQ2uJRUQo8GLnI7qhhksQl7DugVivdvWmrs8jeqf///9n/9dE//+zrIY4c+cqmVq/oQgUAdNjA6AIIBgxDis5nOIwpBkKASY//OExLMoK0JUAPPEvFSaHoC8mPoWmC4EiIDDHoXEuY+tIDwl1mPjgGKXKIRhhNLJgu9My7QIMNfeuAXwXLS2IyyjCtYbpSXakrcYF0QeKcbz0G+1s52k6N5vwzw5KYmp4OK4xvXfSb22JVrcy+FwbQ8JCgHABgGxxd6HWGa6wVGFQ+l3/6Ox//1jRFHwmgLrCCijvatgsRDKlV5KlBIIGETkmzRyGDQFvCYhkod2p6PGCYQgcFgCMIxhl8vlg8Ib//OExMUnkXZYAO4elL80pgxJKCYjpDCHLuBKhE60GVxRW4eLrZvUPBz1TJo9zDjC8LfGYwvDJbEUn77MhYu3qIqslcRlqir3X+Q9AmWFSxv9YaQxHPKHlyIRAJOKHmUMNdFRlRvtY9p9pi/2muZ6f////2tf///89yAYAiLBAWDMPW/orYqGluo1mMBif2GZh4QAwZmACsbu4Bj4QGQSCYuKxCKzM4VDAQqsYImmehJcdYpmMCaKKqXiICVhHld6//OExNknwzZgAO5OvNrK1wgMjUVh8uZNw5Gm9c+rQRlodLWhtyLdGM7IOlUPlRMJ/CmObI/kjXakOQ6HzdPfOn8Bw1DxN6QaP2B4n7UaUfkGFnrioqhRda6git3oof//rWJy4IAmD4fNSEoODAQKvDD0Wv/plw/EEgp9WUDgFkpbGHR5hcDEBZgYBRsCmZhMMQIAEAgwYpT8Y+ggJCKwIKhyZ+i6HCKh6YMFCaJHYDxi6hGCAMIOUQ8/IwFL0WbM//OExO0pmXpsAObelJRohAnZUoNAlSVLS7YqvCxCcxpW9n5bElhmCRWHl/NpZ5n3nefrsZnpZzl2UUlTGf3j2apJZATrNXfeJ/G8+npR5iP30a9/r7//7f///Tmz0yZyxuLxggUNHTTTDpqHbmmmjYiOqUCYUMPlyGiJ///nyJxcddzFPKqsZyqxSvoWuOepROdWwLhs0RhzsA8BAHKoIM0zQ+LJwUwwMCAqIzSTkMVhkaAaXI4LThiIMcA5VcVA//OExPkwU+5oAO6O3YARGAgxMvCXlfyntLSVXczd10bles+0BxTHkA284k4UdgTCmayxOX2aXW9//6/7lvW5ROWM6u8bOdTDC/HYfkLTYMxl93+yLdfT1+zWX////////ViohTA5RmqLzKzoplY1xE447DCka3//27qp0aqS5jOJLhV8HraMQCc2hCzLoFTEbuYDUZ0hxmMwsDhCYbDgNkBzE8kQDa4ZHXRwAkGPwKmAXBMhPDbN089vARUBAMwk//OExOorHAJwAOcK3RTIhhUrhqUoaOPAFiOoqNcg6IwKsd35dHYEf+Nw7Bzv08WfVxHDceeeKbuW5ZKJTD9uXTtPfuZczv28c+X+2c/s2bUUl8liErhufn1qczK7r+iFF4fF9ZD1//9P///+nkpcOkYhiL3b0psyixaijsxLf6e3+xCpLZCDBQ8TB1QqgjkpL7GBpsGd4Ul1BCBYjGUzbiYyoFwaHFVYwfEox1OIxDBsDAQPAsYPjgZaj8Y7B0GB//OExPAvDAJwAObK3EGAQAYPDxm+VGNRWr0KgkVCpj4rmbSCYjDo8IxUDA4RmBAEl2vJFZHVWOH43ADUlB2Xw8tJOdojgqV0oKBDxwM01B5Vi91stq1mCoCf6NW7FveWOs6+WWO/v9vXbt2t2M0sPU8QitOBcqNx4o5lmefMQ2RLMji8bzh11////9U57//MYycyOYrG6pQ9v96aM6nEzXvMo56nnshhhi9jXMMmog3FJY4sPFV4tdTDtqUBgjOg//OExOY3W+ZwAO8O3YfAQ7CgcMHgAEmA5a/TGYbUGbUEhAx+njHAIRIhxACGAozMGBIAuURnDj8juwR5g0FR8zT07Rc7o9ItENP0EkkNUdFWNHStUnMw/JXtRqVw3V6zGESUQXwWcmMpszdtHYps6CpYqZZb7/5b/n/lvPWu45541Lfc78NR+VRASAIKVDOIpezs7qw8qigsBQiI39////1SVEf/9rG9tX///9LPndR4wRMjWeKRNEOKsLRo8qCw//OExLswC9p4AOaK3KjYFP/1qqGEWZ4QBGbeJ0pADCCrkqgSYzQybji6XifV2QKFhkKU5QC+DOmsGEYIGwAjvs4QDL/Ai6GE70vwXCAA6DmJTJRZMgxdONpWDni4BA7pF7TFANhBbB9REAmIFJoCEZYCFAC11sj8AobZfa1DT4wP3Vafnd5cpandbzxrYa/HG3nneyhuN8jtE88shl/QCSDHzTd6q6Jc9hcIwlFUb3t////+j///VJrqJxMcg4ph//OExK00K9ZsAO7O3cpjTVrdjj3c1DDKFyx5OSHR88alZjNQkQONYeH3JHPKDYq4VZatNS9qphEanaVmPFAwACVLjDIrMi6E5aWEJKmzQHLFiwLCtha3C5BgIFGJAbzXYBaSEBg8HSmUcEYKPCrBaKGIbHQ59DBRBk7eOQMx5oJWMADO1WGFNgKe0goxBcfLw1LV6eoZzL8+VL/c97nd5517fM6ecjdTHmUzO5Y8+rS8xWj/9DshCBw3Uzpu3/////OExI8tBAJ0AObE3f////+rSlVFR7r/rM1DqgRTMKEs5BRTqdc1mlZ5lLs3lq5QUwxuo0JFaygAmBYqY+aBiAfmOAIYABRjpJmUogYqIYCCA0DkEbxioBaJvDHBOsMOpcKRUMMsBWGa9UZAgFUFd2XtbTRUFeWXQ06SEpEYLEoDrDOo8FRjNChWN2kiEtD8KhsP2FB3ScnHHQpwnCIOBODU0W1mZr1/7/7/6lxlU0rDWND5tEb////+r9Yq0TEg//OExI4lSdp0AOZQmOFTzCoif/SqvKwtcAIPMS2c0QPwgUFrgMFTYPxNWHsCAIBAwwSNwMIlbF5sGGhycFkrszEddeIPw4bfO6xS9HH9o6P8MeYyuXPxKLEfl0MOoyxxJfGFh3HvigWAMNSft4k66Jk/jXnYljgBAAgQCGI4ljoyvJYlk/2Dg/uv+lKUmcpRikp2zhyjd7/iwnx8EDD7f/////8pJjiD2LP+TVkNdR84s/U5dZmBWuGAppIrCEDQ//OExKsn2eJ4AOZYmBhh5ecSWiT+ZschV3Pd5yjILit4IhEwcYMGB0JohDS4Q/kU0E3ISfZfziLasoYu10zRW+kJqlfRMOa4fOi+tYXJcAoAygggPQmBwkPPVrakOP9xcFy2raHIggpfg/i4A/g1KMKhYMHpCdg2pTpUqqiJVkWGt8I4gPOQ6fcx5zupw5jZjV/0bt////////7Lsm/T//9rXdv1ocbVnPqj+mm5pjtMQjPGoYw2Uxfk2gF+VsGi//OExL4shCaAANvO3QKZ6aZglh8OaawIAtzBNBzN5cwBQC2ssIcroCGMCuViwqo7PCez3xvG7VmzAYn0NuXaNUh8D+OkHIN89PI0I1Jx2GezGhCHGQXU0CXILD5lZYrFaHCjxXVVdaI1ab9tcCDWtMY1vfzj/73p7e28f//+9paRZYRs//9b80LM//2fl3lGxdXsojjC1dy1aRsCKztsYiLAdZRtAwQZxrJILCTgrcpYKSEMGAV+srVWUV1MnYkN//OExL8lUhaIANPemA6DWdK1lasfNt33r6395rBi6gn6qUkEeDmEeJeI6ZpckJUqlPw0o4/kcjmJzQ1or26LV9G3i1c5xjf1BEkKFBPHAxl/Q9pVb7scS1HeZ/////97oUlv//df//9GqQ1H22rFStmTvdaoXKYxFHVxZU4llbUQSBTkpmKBUIgIYynRnMVGAwSYORBwI+g4WIVGChO5M4VAMEAqMKJGHgWxGGRUeMxEKOW8Z67s7L1Iy27MZY1c//OExNwmdCqAANvE3bmFnVfLv3e//fpKKrEatl3Y29rlLuZdnjcf54XdltbfOfrn7/f6y7vWOOP+rFNYqoghUo7i2GHmFC1QlV/vB1VX+k99fH///////DJS8mxNZVHWq600Q0N88xfTf//8df1Tf/MWzPa7mxK0sQ68CohFKub700NDh6sDVWgqLGECefAQgsSQMBTn40MkBYMSYX1xlQEGBQMFQyZ5ASvoAMCgKHnaCw+CAc3QdCOil8ZYNXxf//OExPUvFDpoAOYQ3EbaJugGBfKRvTjTWK0HxmrHcoFs4yi1Xwit+ST9PATg17kclk9TVu15h+oi9LXpFhSZ7w739b///n/3n792QxTFApDLsIxxhIBxYVVm+MUFDooaWQRzev//7SDCuWHvFByuQxtP5aSqYxu9Wmu63qU7/+Wu2mjtLxoqHQ0HeWHqXkDAaDF4ZwpYWEgFEZ1rOmEQQYvBplXLGygACiOMFswSFHFogQAY4+Bl0DwCFQoSUgSm//OExOst2/pYAOYK3OJw6o15S2aTsUtlaMqcb/Q881S9Wx/lqtfn+5Z3rFNFodeZlzT6aR25dGJqXZy+gpXAkTDo49lq5j6OpjXqajHsxlI7E01rMcGoa1vQwEQoUZq61////3DDCQyMxjWDBWDIv2/O6Jet6hwiI3Sxv7L/LmQ8EDHrLkphwQAg8PZ26MRjKAJcQ0Jg4wREYBBONJ0VqIlYMDKJGwjjBCCKXaC8ZfGMjpIlzL26NPu5LTiFuNQS//OExOYq80pQAOZEvOo77NoEgedjkgeeUwNKvzpdT2cps2ZlxqDjgwS+8GYUculfIxF7ET+UTSld2GH/sae7O6OlkMPZCOUFISrdVVixeibojGOHBaIO5pH9///9jKRqMJhlIyrpT9yozPNRpCiAINABIYNLHKN/sTrJneKAkFYu6DQwBIOdctBgoAhUJmJOiZGBBgIPGDbScOFJjEGkoLNFAdRiGlMWqtcABQ4bBFslCZRDbOmvw08sPuezmw3O//OExO0rM0ZIAO5EvIIrR3YFfGeZlHYvDED8opmevR6SzENuW2i+4BiVWUXeQXWrWq05WYtJW5LhV1HXZl04ohdG1+dSolnGFI73M8rKxT2yHmVSEFIrWVFdE/Wte388n1RnKh3NuahUWuWqt7ShbBwWQa6OtCmQTELKv7Bpk4jyB4VqXYYHgaYWC4cvHiYUAYYTgGYXGIYqgaYDAWY7F+Clda0s4w4AWih9R5hjlKDFC2xpfwwy2Tv7qUtwdaNN//OExPMtk35EAOYKvMXHZu7DnwJBK07TkwQ39HTUXZfKLctuXKkdchl6pH8hVSex3lVztw1lHX326TKofdyH5uq53IMrIRVddH+EFo6Gnr6tCEXzgjmcZ2a3f0pdPb/eb0/65nOjORtmd+iornGHDAQRQbFyITIsX/5YXtAvGIpW4RAiYGlkcPgeGDUEAAYKj4YKhECQxMEAdMABTMGgGBwiiwBy98om0sQ5UhBAySDh4QnUhhK5zUpCkecJ4tak//OExO8ro1pEAO4EvJWIv6HncTVn0uVJSkVkaGZziTFAS1FimKNHvmJfiq56s4o9XMNJj0k/cU/HV48OqpEKxGQpBUewrdGjA1Q46u195KKExAVCZpHYiDiuu9ETu6/6frSX323v5nompW6+lqqOYRANNk9YQ3K+OrDUgOjl1VmBQMBqWbrvFszEigwB7DFALAZj5YKgZiAmOjyl0RdnuTQvoDSbg0CMg/YrxXOkuqVGvKIeQ+T5clGqzHUsxLm+//OExPMsS1JAAOvKvEyqY7BHgH8oo22GMDJUdAkV6q0nw0gjg3ITmQlMSanJLVoIpastKdD3IV59ZpmtcccVtXz7W6kOzPY9DDK2JHLt3YYKo3A4F7n1IoSR3CKA8oFESY0ctP70ESoubqY2PcASqgN0sWZuLkUCsGkKCBCKCx85z8EEjSvjelgoRCx4MYFnR5qRG6dypY87SWWjBC7hWlT0tgt+3xzpqmn2lzpO27MabpCXPqw1Fsb0rs0ktuT1//OExPQrcho0ANvYmJu1a8si1LCoNpJdLub3S18aaxvU1R2JVPTOMadEVZAOsjqepIJWBJdAvZgXaKmkK7qZiRS6k8AJ1JcuvzDwRzTrap87ltrNHrWbZ9+WikqP3F7rv++v6qb2m7dr/bHl4vyzazs/+ReYh88Tj/hVXkxklMVRW1U3HNq0slwBcKgQNEnk0BNZNYIE0dMYKkSDdl8ZLBLTFoxRTpEVzIs6F8xlEz2TseOfszKXqGfqy4s6tiss//OExPkwK3okANYMvRgxJ8Pnr+NpsIU5Mr3x9fc2sxM63aP8vsPYk9o1od7Rptajz326qpbCuSO7yjkQsuJzTep9ld/VdsYqHn/Ki2qm+tm/7GtO3+8vWy6EuT3vOVu/avbxK8yNx4n+fvl2r9omO3zf87fNemd/tY/zXd5a3lv6aId1wWcd47oSKnIrpWKje5yVKmqr+fxYzlT1Wq4tV2p5usQhREaBmS7LVmZIQyPUZiso2lJyHbQzkiTWe1GV//OExOss5AocAMPM3UbxXXyh6xpg9FaaBDHsLPTUjZaCPEaFEyu0cluZ02Rxrb3sHxumY9JXONHjZzf8xtxltuJCFJIergMmnBSzTS8m8rCmXcd0nSZj8RddHesZ9tdxG76fD7k42jOjitdi/rsj0r2dGuonS2/fq2S+mcmWz4fWR4f8q4sXJfhQJl1rnK8p7QWpq/Xpe15yGq10+EZcVgmNWLMwe/csUOW1q2kL1V0a5c89Wy5qCNe7T2Jjs//P//OExOor/DIUAMJM3WffmvW1W+ytaPvrAuPrUROzVukMx5LzPIl62qXrxVyhB1tz0XNUWXtGKLNbSTpbiR1VuyEw2YDJlosbFRGOJymZq9VOwcutKv6rMO1Kcw2crOdeEjVNRvjDwQx8p0RL9Tmmsc+lcvKyk5lZC0C52UJKpNIcbIhF0CkJna5q7jrV2/+6sxi7s1ukvRMrBATF4SIDZFQeZJzNY4yaOhBAkVREZFcFT6I6KjClXSmKrUobXJKt//OExO0sfBoAAMsM3fAiM4h1RJAyTVaBdowta3Jg2T63oiCFol6jyBOdLM2zS1l2kabuuSfCvc0+Htp1ZnY6GRetKOYdBCyJjF2bbK+i0ZZV2fuHnE9Z3PGorirLbFPxjJXCKn9VzVpy5KHxC5T046cxGwMy9NPRgCKIhhJpBlQDams9A6jKKQqjLgpxmt0EDRjyRihPKKBSPqNDHUrRJTtNyd0XPoWVcPVEUKMB6DibanOFnL1Q6nsokDMkoDZZ//OExO4uNDn0ANJM3OtJhtCjRIq9Tmy6cb2k2taMKeOQXZ0E3ZLFJMhmBjky03/28NyeRtIlR8n1e/XPeZapw6jveIecIOmcaacRMxdMp7lNk2KKQguLurliJqBhsmY+dOz3wvNr6nKO41MgY/jWezb2sZ6IFncxi6mfiTIZj5MYyW0nE3t0lX7G7/e6zwzlk1Lqs3eqOINTRSVRRE5MowhbTFCFowJDDR0mOh87T2FVCO2ZrE6SUmh5Uo2omqLk//OExOgqrDn4AKJM3GfUjSqdoXsF66EwvE6ciJOjTwHiZ05E5WwhYkmUmecfbkV6tLAjkDznTtCfJ9QTKMNcmbDXJGY2ScOWk75WJUTln1InNTq4PKzNt2KYpIlPZA5Eke/OMl04iNi0inctnpKYakjScmOg/nO+n7uzO3TqYqm25RFcsuk1KikRj/Obt9zr9lGdetflNXLG1XGUSOROfLExgqSDpNkKudLoGAtJldiDJJuFRlI2fOxHo29Fa0Ta//OExPAtzDn0ANJM3ABR7KSE0l5QXMwkGhWth9eZZCxy60isEHOkWMI5G49kkK2UGKltulum0xZ75dZh31D7OF6kp1OaSIdorJJumEq9ASNBWMXDvFuKMvZQhcebmsxiXJ0npsEyeZJm++5IgVa8H3FLu65aV/DOf0jYSs4um90hqetNOeXmK42eFSkz7jjRZ2Mt3ozjTUtX6bmZbr+oOzJkUDzj6x902hMuUZemF1VCsmDQRgsuhcyQnaMxXToF//OExOsshCn0ANJM3QmRTcjXmUuTekzllYuKmTC07FxECaiQlPeg8MLkqyiGlj+5l5XRiJJ1VSlmHhKNGEQcadio8waIlK5LLUtj2PKJqjhaXVacVf2MNtbEYeh9l3RJeLscYrW6iyNDKzHO9ljp6rMHjKppug5QguoDg6lhibLm1g5ynnskWcmmK41TeOVPdpdWLNqx23jW3Hb+duLy8cpMgob5k4QsxMErKFMPI1EAp5A2okU2pNIGzxKT9CQR//OExOwtdDH0ANJQ3REv0yBGgkd9yNKzPzkPIBtRJo+iQJJpqNNE8jqU7p+2i5FzM0k5pr0kinSXi3YRhqD72yEWwrSBG7SjYlK0MaO5d4yo9KdOXrT2Oaa8V4xCrtCtInxUsSNy99yrA6Cz7jYi/Zq7e78731Spg4x08ldyVVzUEb8GBQWQI0uu8v4Z50tjLC9dsamLNXO3Xit2+lLdS4PzRYeesvIapYR2DxYpUahX1cVj1YrjQ4UK9EE/P2ju//OExOksBCH0ANJM3eT6PihyjS05OZyw/OWXRyumF9Bmq9M6Eo0k7o+0hMFEzM5QCKSNB9g5K08A1yQNTv4iadqGpOGfnIThZW3moxDpFRygugwq0UG0lBQhks/aQlO2IGUQzR5VMyKZuJmOukYCGMJDrImbF3zfBR+oGbcrIlzJlEOganWUe2T4TxBkFJQWWpLKCnFBFKtSU2Y0OstAvFpieJ42fPEOwtsPtsa9AiUONLJCnUmNbW7w/1MUNFXz//OExOwvpDnwANMM3IOG0RFFMgipDXa5d8m9ilTT4MlHZGE08T1N0aqkTpPQjJTpUvSMUZOeM1rM1+xpX3Pn1BnkpyJLO65zJtDZ2E81yeLmItbtMuznuljsZzK8vvo3nV8qJncbyy5ovOn46vZyLuXtH7q8bUAM34/Xbfa+nJ7BdI4/aikZ9vDWu0dNVo49b3IrUzSZ4UEckUaiSi819Uikak9KbDQqaPu3ljBI3ifTTQGpNLkxKq6LDdNMkz3d//OExOApFCH4AKJM3QKlIEMG30ja1S+h0+hR2/ESrL4UwzHomNqNWjhR2aqT005a32tgX2LON/LySjkpuN35xqdxjLfufoVrt0V42UNTR1sFzMUZDydSQ5mpoWz3XrU5Iuyoiozc8Tf3xvb/p25CrcvBT7VRx1R10Jw2ebCpLxylj95bJTarHBFDVbmUtadl/odkMWisiootYp5ykp5RL0B8aJ8Ii4eEy0kUm0YlJhSiIThMmuJSJEiFQygbRSjJ//OExO4svBH0ANJS3QiJGUbTdKYpWjIUlTPkrnkVFTaFCqQuuGSlaRMVgDSYk+USSmc9T/XIxeYckSPSmK9VRJtmZYlziJFhKBIGJkBtgFjVb64KEgExZR4aXwtAdJqs3moLy0EAoicClFiB2wSciglLYDJoujWEjkpjSJSTY8yxLWSo07Ti85LJ81yRoMVZhKyOU9zVaUkqNNio8tQmGuxlbCFZ0nFUGBu5G5RN0EEvE2KA4xLzD2fJZNA9lEQi//OExO4xjDHoAMpM3CGTqBerSVLHTqi8J5tRVSnDYyvI1PJRWVShPP/V1X//91V5ubEyqh2dn/lRUZ/6p//7qmUwiJDBMh2dtF8wiJCQ0hyKgiJCQ0iookIhQwTI7OxhERGHI9UVUX0X/RFI7OUyr5ijFO1ymKMUPYsLiutMQU1FMy4xMDCqqqqqqqqqqqqqqqqqqqqqqqqqqqqqqqqqqqqqqqqqqqqqqqqqqqqqqqqqqqqqqqqqqqqqqqqqqqqq//OExNolw/GYAMJK3Kqqqqqqqqqqqqqqqqqqqqqqqqqqqqqqqqqqqqqqqqqqqqqqqqqqqqqqqqqqqqqqqqqqqqqqqqqqqqqqqqqqqqqqqqqqqqqqqqqqqqqqqqqqqqqqqqqqqqqqqqqqqqqqqqqqqqqqqqqqqqqqqqqqqqqqqqqqqqqqqqqqqqqqqqqqqqqqqqqqqqqqqqqqqqqqqqqqqqqqqqqqqqqqqqqqqqqqqqqqqqqqqqqqqqqqqqqqqqqq\" type=\"audio/mpeg\" />\n",
              "                    Your browser does not support the audio element.\n",
              "                </audio>\n",
              "              "
            ]
          },
          "metadata": {}
        },
        {
          "output_type": "display_data",
          "data": {
            "text/plain": [
              "/content/tts_output.mp3"
            ],
            "text/html": [
              "<a href='tts_output.mp3' target='_blank'>tts_output.mp3</a><br>"
            ]
          },
          "metadata": {}
        }
      ]
    }
  ]
}